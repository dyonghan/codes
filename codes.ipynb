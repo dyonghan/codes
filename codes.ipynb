{
 "cells": [
  {
   "cell_type": "markdown",
   "metadata": {},
   "source": [
    "## cout bit 1"
   ]
  },
  {
   "cell_type": "code",
   "execution_count": 1,
   "metadata": {},
   "outputs": [
    {
     "name": "stdout",
     "output_type": "stream",
     "text": [
      "0b1111 4\n"
     ]
    }
   ],
   "source": [
    "def count_bit_1(n):\n",
    "    cnt = 0\n",
    "    while n > 0:\n",
    "        if n % 2 == 1:\n",
    "            cnt+=1\n",
    "        n //= 2\n",
    "    return cnt\n",
    "print(bin(15), count_bit_1(15))"
   ]
  },
  {
   "cell_type": "markdown",
   "metadata": {},
   "source": [
    "## bubble sort"
   ]
  },
  {
   "cell_type": "code",
   "execution_count": 3,
   "metadata": {},
   "outputs": [
    {
     "name": "stdout",
     "output_type": "stream",
     "text": [
      "OK\n"
     ]
    }
   ],
   "source": [
    "def bubble_sort(a):\n",
    "    n = len(a)\n",
    "    for i in range(n):\n",
    "        for j in range(n-1 -i):\n",
    "            if a[j] > a[j+1]:\n",
    "                a[j], a[j+1] = a[j+1], a[j]\n",
    "    return a\n",
    "\n",
    "test = [3,5,4,6,2,7,9,1,0,8]\n",
    "expect = [0,1,2,3,4,5,6,7,8,9]\n",
    "assert bubble_sort(test) == expect\n",
    "print('OK')"
   ]
  },
  {
   "cell_type": "markdown",
   "metadata": {},
   "source": [
    "## copy a complicate list\n",
    "\n",
    "1. 复制每个节点，如复制A得到A1，将A1插入到A后面\n",
    "2. 遍历链表，A1.random = A.random.next\n",
    "3. 将链表拆分成原链表和复制后的链表"
   ]
  },
  {
   "cell_type": "code",
   "execution_count": null,
   "metadata": {},
   "outputs": [],
   "source": [
    "class RandomListNode():\n",
    "    def __init__(self, x):\n",
    "        self.label = x\n",
    "        self.next = None\n",
    "        self.random = None\n",
    "def clone(phead):\n",
    "    if not phead:\n",
    "        return None\n",
    "    # copy every node\n",
    "    p1 = phead\n",
    "    while p1:\n",
    "        p2 = RandomListNode(p1.label)\n",
    "        p2.next = p1.next\n",
    "        p1.next = p2\n",
    "        p1 = p2.next\n",
    "    \n",
    "    # traverse list\n",
    "    p1 = phead\n",
    "    while p1:\n",
    "        p2 = p1.next\n",
    "        if p1.random:\n",
    "            p2.random = p1.random.next\n",
    "        p1 = p2.next\n",
    "    \n",
    "    # split list\n",
    "    p2head = phead.next\n",
    "    p1 = phead\n",
    "    while p1.next:\n",
    "        ptemp = p1.next\n",
    "        p1.next = p1.next.next\n",
    "        p1 = ptemp"
   ]
  },
  {
   "cell_type": "markdown",
   "metadata": {},
   "source": [
    "## binary tree traversal"
   ]
  },
  {
   "cell_type": "code",
   "execution_count": null,
   "metadata": {},
   "outputs": [],
   "source": [
    "class Node():\n",
    "    def __init__(self, label):\n",
    "        self.label = label\n",
    "        self.left = None\n",
    "        self.right = None\n",
    "    \n",
    "def add_node(root, label):\n",
    "    node = Node(label)\n",
    "    if not root:\n",
    "        root = node\n",
    "    else:\n",
    "        queue.append(root)\n",
    "        while queue:\n",
    "            cur = queue.pop(0)\n",
    "            if not cur.left:\n",
    "                cur.left = node\n",
    "            else not cur.right:\n",
    "                cur.right = node\n",
    "            else:\n",
    "                queue.append(cur.left)\n",
    "                queur.append(cur.right)\n",
    "        \n",
    "# deepth first traversal\n",
    "visit = []\n",
    "def pre_order_traversal(root):\n",
    "    if not root:\n",
    "        return\n",
    "    visit.append(root.label)\n",
    "    pre_order_traversal(root.left)\n",
    "    pre_order_traversal(root.right)\n",
    "    \n",
    "visit = []\n",
    "def in_order_traversal(root):\n",
    "    if not root:\n",
    "        return\n",
    "    in_order_traversal(left)\n",
    "    visit.append(root.label)\n",
    "    in_order_traversal(root.right)\n",
    "\n",
    "visit = []\n",
    "def post_order_traversal(root):\n",
    "    if not root:\n",
    "        return\n",
    "    post_order_traversal(root.left)\n",
    "    post_order_traversal(root.right)\n",
    "    visit.append(root.label)\n",
    "\n",
    "# breadth first traversal\n",
    "visit = []\n",
    "def bfs(root):\n",
    "    if not root:\n",
    "        return\n",
    "    queue = [root]\n",
    "    while queue:\n",
    "        cur = queue.pop(0)\n",
    "        visit.append(cur)\n",
    "        queue.append(cur.left)\n",
    "        queue.append(cur.right)"
   ]
  },
  {
   "cell_type": "markdown",
   "metadata": {},
   "source": [
    "## tree traversal"
   ]
  },
  {
   "cell_type": "code",
   "execution_count": null,
   "metadata": {},
   "outputs": [],
   "source": [
    "class None():\n",
    "    def __init__(label):\n",
    "        self.label = label\n",
    "        self.childs = []\n",
    "\n",
    "# recursice\n",
    "visit = []\n",
    "def dfs(root):\n",
    "    if not root:\n",
    "        return\n",
    "    visit.append(root.label)\n",
    "    for child in childs:\n",
    "        dfs(child)\n",
    "\n",
    "# queue or stack\n",
    "visit = []\n",
    "def bfs(root):\n",
    "    if not root:\n",
    "        return\n",
    "    queue = [root]\n",
    "    while queue:\n",
    "        cur = queue.pop(0)\n",
    "        visit.append(cur)\n",
    "        for child in cur.childs:\n",
    "            queue.append(child)"
   ]
  },
  {
   "cell_type": "markdown",
   "metadata": {},
   "source": [
    "## stack\n",
    "\n",
    "用递归函数和栈操作逆序一个栈"
   ]
  },
  {
   "cell_type": "code",
   "execution_count": 7,
   "metadata": {},
   "outputs": [
    {
     "name": "stdout",
     "output_type": "stream",
     "text": [
      "[5, 4, 3, 2, 1]\n"
     ]
    }
   ],
   "source": [
    "# 栈顶first，栈底last\n",
    "def pop_last_item(s):\n",
    "    item = s.pop()\n",
    "    if not s:\n",
    "        return item\n",
    "    else:\n",
    "        last = pop_last_item(s)\n",
    "        s.append(item)\n",
    "        return last\n",
    "\n",
    "def reverse_stack(s):\n",
    "    if not s:\n",
    "        return\n",
    "    last = pop_last_item(s)\n",
    "    reverse_stack(s)\n",
    "    s.append(last)\n",
    "\n",
    "s = [1,2,3,4,5]\n",
    "reverse_stack(s)\n",
    "print(s)"
   ]
  },
  {
   "cell_type": "markdown",
   "metadata": {},
   "source": [
    "## calculate median\n",
    "\n",
    "有一个空容器，每次接收一个整形数字，计算已接收数字列表的中位数，如果是奇数个数，返回中间那个数，如果是偶数个数，返回中间两个数的平均值。"
   ]
  },
  {
   "cell_type": "code",
   "execution_count": 11,
   "metadata": {},
   "outputs": [
    {
     "name": "stdout",
     "output_type": "stream",
     "text": [
      "OK\n"
     ]
    }
   ],
   "source": [
    "container = []\n",
    "\n",
    "def find_pos(li, n):\n",
    "    l, r = 0,len(li)\n",
    "    while l < r:\n",
    "        m = (l + r) // 2\n",
    "        if li[m] == n:\n",
    "            return m\n",
    "        elif li[m] < n:\n",
    "            l = m + 1\n",
    "        else:\n",
    "            r = m\n",
    "    return r\n",
    "\n",
    "def calc_median(n):\n",
    "    pos = find_pos(container, n)\n",
    "    container.insert(pos, n)\n",
    "    idx = len(container) // 2\n",
    "    if len(container) % 2 == 1:\n",
    "        return container[idx]\n",
    "    else:\n",
    "        return (container[idx-1] + container[idx]) / 2\n",
    "\n",
    "for n in [2,3,9,1,7]:\n",
    "    median = calc_median(n)\n",
    "assert median == 3\n",
    "\n",
    "for n in [23,11,4]:\n",
    "    median = calc_median(n)\n",
    "assert median == 5.5\n",
    "print('OK')"
   ]
  },
  {
   "cell_type": "markdown",
   "metadata": {},
   "source": [
    "## 大顶堆、小顶堆、堆排序\n",
    "\n",
    "- 大顶堆：a[i] >= a[2i+1] && a[i] >= a[2i+2]\n",
    "- 小顶堆：a[i] <= a[2i+1] && a[i] <= a[2i+2]\n",
    "\n",
    "利用大顶堆（小顶堆）堆顶记录是最大（最小）关键字这一特性，使得每次从无序中选择最大记录变得简单。其基本思想为（大顶堆）：\n",
    "\n",
    "1. 将待排序序列（R1,R2...Rn）初始化为大顶堆，此堆为初始无序区；\n",
    "2. 将堆顶元素R1与最后一个元素Rn交换，此时得到新的无序区（R1,R2...Rn-1）和新的有序区（Rn），且满足（R1,R2...Rn-1）<=Rn\n",
    "3. 由于交换后的新的堆顶R1可能违反堆的性质，因此需要将当前无序区（R1,R2...Rn-1）调整为新堆。然后再次将R1与无序区最后一个元素交换，得到新的无序区（R1,R2...Rn-2）和新的有序区（Rn-1,Rn）。不断重复此过程直到有序区的元素的个数为n-1，则整个排序过程完成。"
   ]
  },
  {
   "cell_type": "code",
   "execution_count": 16,
   "metadata": {},
   "outputs": [
    {
     "name": "stdout",
     "output_type": "stream",
     "text": [
      "[1, 2, 3, 4, 5, 6, 7, 8, 9]\n"
     ]
    }
   ],
   "source": [
    "# 从0开始编号\n",
    "\n",
    "def sift_down(li, start, end):\n",
    "    root = start\n",
    "    child = 2 * root + 1\n",
    "    while child <= end:\n",
    "        if child + 1 < end and li[child] < li[child+1]:\n",
    "            child += 1\n",
    "        if li[root] < li[child]:\n",
    "            li[root], li[child] = li[child], li[root]\n",
    "        root = child\n",
    "        child = 2 * root + 1\n",
    "\n",
    "def heap_sort(li):\n",
    "    # 初始化大顶堆\n",
    "    for start in range(len(li)//2 - 1, -1, -1):\n",
    "        sift_down(li, start, len(li)-1)\n",
    "    # 不断将最大元素调整到有序区\n",
    "    for end in range(len(li)-1, 0, -1):\n",
    "        li[end], li[0] = li[0], li[end]\n",
    "        sift_down(li, 0, end-1)\n",
    "    return li\n",
    "\n",
    "l = [9, 2, 1, 7, 6, 8, 5, 3, 4]\n",
    "heap_sort(l)\n",
    "print(l)"
   ]
  },
  {
   "cell_type": "code",
   "execution_count": null,
   "metadata": {},
   "outputs": [],
   "source": []
  }
 ],
 "metadata": {
  "kernelspec": {
   "display_name": "Python 3",
   "language": "python",
   "name": "python3"
  },
  "language_info": {
   "codemirror_mode": {
    "name": "ipython",
    "version": 3
   },
   "file_extension": ".py",
   "mimetype": "text/x-python",
   "name": "python",
   "nbconvert_exporter": "python",
   "pygments_lexer": "ipython3",
   "version": "3.7.5"
  }
 },
 "nbformat": 4,
 "nbformat_minor": 4
}
